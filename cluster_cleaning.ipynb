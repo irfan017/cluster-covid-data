{
 "cells": [
  {
   "cell_type": "code",
   "execution_count": 31,
   "metadata": {},
   "outputs": [],
   "source": [
    "# Import Libraries\n",
    "import pandas as pd\n",
    "from datetime import datetime \n",
    "from unicodedata import normalize\n"
   ]
  },
  {
   "cell_type": "code",
   "execution_count": 32,
   "metadata": {},
   "outputs": [],
   "source": [
    "# read in data \n",
    "df= pd.read_csv('cluster_raw.csv')"
   ]
  },
  {
   "cell_type": "code",
   "execution_count": 33,
   "metadata": {},
   "outputs": [
    {
     "data": {
      "text/html": [
       "<div>\n",
       "<style scoped>\n",
       "    .dataframe tbody tr th:only-of-type {\n",
       "        vertical-align: middle;\n",
       "    }\n",
       "\n",
       "    .dataframe tbody tr th {\n",
       "        vertical-align: top;\n",
       "    }\n",
       "\n",
       "    .dataframe thead th {\n",
       "        text-align: right;\n",
       "    }\n",
       "</style>\n",
       "<table border=\"1\" class=\"dataframe\">\n",
       "  <thead>\n",
       "    <tr style=\"text-align: right;\">\n",
       "      <th></th>\n",
       "      <th>tarikh</th>\n",
       "      <th>nama_kluster</th>\n",
       "      <th>kategori_kluster</th>\n",
       "      <th>negeri</th>\n",
       "      <th>daerah</th>\n",
       "      <th>jumlah_kes</th>\n",
       "      <th>jumlah_disaring</th>\n",
       "    </tr>\n",
       "  </thead>\n",
       "  <tbody>\n",
       "    <tr>\n",
       "      <th>1535</th>\n",
       "      <td>2021-07-20</td>\n",
       "      <td>Jalan Waterfront</td>\n",
       "      <td>Tempat Kerja</td>\n",
       "      <td>Negeri Sembilan</td>\n",
       "      <td>Port Dickson</td>\n",
       "      <td>42</td>\n",
       "      <td>116</td>\n",
       "    </tr>\n",
       "    <tr>\n",
       "      <th>1536</th>\n",
       "      <td>2021-07-20</td>\n",
       "      <td>Pasar Besar Dungun</td>\n",
       "      <td>Tempat Kerja</td>\n",
       "      <td>Terengganu</td>\n",
       "      <td>Dungun</td>\n",
       "      <td>51</td>\n",
       "      <td>159</td>\n",
       "    </tr>\n",
       "    <tr>\n",
       "      <th>1537</th>\n",
       "      <td>2021-07-20</td>\n",
       "      <td>Kampung Pukak</td>\n",
       "      <td>Komuniti</td>\n",
       "      <td>Sabah</td>\n",
       "      <td>Tuaran</td>\n",
       "      <td>17</td>\n",
       "      <td>56</td>\n",
       "    </tr>\n",
       "    <tr>\n",
       "      <th>1538</th>\n",
       "      <td>2021-07-20</td>\n",
       "      <td>Jalan Bukit Chagar</td>\n",
       "      <td>Kumpulan Berisiko Tinggi</td>\n",
       "      <td>Johor</td>\n",
       "      <td>Johor Bahru</td>\n",
       "      <td>61</td>\n",
       "      <td>113</td>\n",
       "    </tr>\n",
       "    <tr>\n",
       "      <th>1539</th>\n",
       "      <td>2021-07-20</td>\n",
       "      <td>Jalan Berhala Merah</td>\n",
       "      <td>Tempat Kerja</td>\n",
       "      <td>WP Kuala Lumpur</td>\n",
       "      <td>Lembah Pantai</td>\n",
       "      <td>12</td>\n",
       "      <td>20</td>\n",
       "    </tr>\n",
       "  </tbody>\n",
       "</table>\n",
       "</div>"
      ],
      "text/plain": [
       "          tarikh         nama_kluster          kategori_kluster  \\\n",
       "1535  2021-07-20     Jalan Waterfront              Tempat Kerja   \n",
       "1536  2021-07-20   Pasar Besar Dungun              Tempat Kerja   \n",
       "1537  2021-07-20        Kampung Pukak                  Komuniti   \n",
       "1538  2021-07-20   Jalan Bukit Chagar  Kumpulan Berisiko Tinggi   \n",
       "1539  2021-07-20  Jalan Berhala Merah              Tempat Kerja   \n",
       "\n",
       "               negeri         daerah jumlah_kes jumlah_disaring  \n",
       "1535  Negeri Sembilan   Port Dickson         42             116  \n",
       "1536       Terengganu         Dungun         51             159  \n",
       "1537            Sabah         Tuaran         17              56  \n",
       "1538            Johor    Johor Bahru         61             113  \n",
       "1539  WP Kuala Lumpur  Lembah Pantai         12              20  "
      ]
     },
     "execution_count": 33,
     "metadata": {},
     "output_type": "execute_result"
    }
   ],
   "source": [
    "# view first 5 rows \n",
    "df.tail()"
   ]
  },
  {
   "cell_type": "code",
   "execution_count": 34,
   "metadata": {},
   "outputs": [
    {
     "name": "stdout",
     "output_type": "stream",
     "text": [
      "<class 'pandas.core.frame.DataFrame'>\n",
      "RangeIndex: 1540 entries, 0 to 1539\n",
      "Data columns (total 7 columns):\n",
      " #   Column            Non-Null Count  Dtype \n",
      "---  ------            --------------  ----- \n",
      " 0   tarikh            1540 non-null   object\n",
      " 1   nama_kluster      1540 non-null   object\n",
      " 2   kategori_kluster  1540 non-null   object\n",
      " 3   negeri            1540 non-null   object\n",
      " 4   daerah            1540 non-null   object\n",
      " 5   jumlah_kes        1540 non-null   object\n",
      " 6   jumlah_disaring   1540 non-null   object\n",
      "dtypes: object(7)\n",
      "memory usage: 84.3+ KB\n"
     ]
    }
   ],
   "source": [
    "df.info()"
   ]
  },
  {
   "cell_type": "code",
   "execution_count": 35,
   "metadata": {},
   "outputs": [
    {
     "name": "stdout",
     "output_type": "stream",
     "text": [
      "<class 'pandas.core.frame.DataFrame'>\n",
      "RangeIndex: 1540 entries, 0 to 1539\n",
      "Data columns (total 7 columns):\n",
      " #   Column            Non-Null Count  Dtype \n",
      "---  ------            --------------  ----- \n",
      " 0   tarikh            1540 non-null   object\n",
      " 1   nama_kluster      1540 non-null   object\n",
      " 2   kategori_kluster  1540 non-null   object\n",
      " 3   negeri            1540 non-null   object\n",
      " 4   daerah            1540 non-null   object\n",
      " 5   jumlah_kes        1540 non-null   object\n",
      " 6   jumlah_disaring   1540 non-null   object\n",
      "dtypes: object(7)\n",
      "memory usage: 84.3+ KB\n"
     ]
    }
   ],
   "source": [
    "# obtain info on dataframe\n",
    "df.info()"
   ]
  },
  {
   "cell_type": "code",
   "execution_count": 36,
   "metadata": {},
   "outputs": [],
   "source": [
    "# remove trailing spaces\n",
    "df = df.apply(lambda x: x.str.strip())"
   ]
  },
  {
   "cell_type": "code",
   "execution_count": 37,
   "metadata": {},
   "outputs": [],
   "source": [
    "# convert column to datetime pandas\n",
    "df['tarikh'] = pd.to_datetime(df['tarikh'])"
   ]
  },
  {
   "cell_type": "code",
   "execution_count": 38,
   "metadata": {},
   "outputs": [],
   "source": [
    "# remove any empty spaces in columns with numerical values\n",
    "df['jumlah_kes'] = df['jumlah_kes'].str.replace(r'\\D+', '',regex=True)\n",
    "df['jumlah_disaring'] = df['jumlah_disaring'].str.replace(r'\\D+', '',regex=True)\n",
    "\n"
   ]
  },
  {
   "cell_type": "code",
   "execution_count": 39,
   "metadata": {},
   "outputs": [],
   "source": [
    "# change columns with numbers to numerical values\n",
    "df['jumlah_kes'] = pd.to_numeric(df['jumlah_kes'])\n",
    "df['jumlah_disaring'] = pd.to_numeric(df['jumlah_disaring'])\n"
   ]
  },
  {
   "cell_type": "code",
   "execution_count": 40,
   "metadata": {},
   "outputs": [],
   "source": [
    "# remove special characters in column\n",
    "df['kategori_kluster'] = df['kategori_kluster'].map(lambda s: normalize('NFKD', s))"
   ]
  },
  {
   "cell_type": "code",
   "execution_count": 41,
   "metadata": {},
   "outputs": [],
   "source": [
    "# clean mistakes in spelling\n",
    "df['kategori_kluster'].replace(['Komunit'], 'Komuniti', regex=False, inplace=True )\n"
   ]
  },
  {
   "cell_type": "code",
   "execution_count": 42,
   "metadata": {},
   "outputs": [],
   "source": [
    "# group same type of data\n",
    "df.loc[df['kategori_kluster'].str.contains('Berisiko',case=False), 'kategori_kluster'] = 'Kumpulan Berisiko Tinggi'\n",
    "\n",
    "# note : All the  various education clusters are grouped into one \n",
    "df.loc[df['kategori_kluster'].str.contains('Pendidikan',case=False), 'kategori_kluster'] = 'Pendidikan'"
   ]
  },
  {
   "cell_type": "code",
   "execution_count": null,
   "metadata": {},
   "outputs": [],
   "source": []
  },
  {
   "cell_type": "code",
   "execution_count": 43,
   "metadata": {},
   "outputs": [
    {
     "data": {
      "text/plain": [
       "Tempat Kerja                878\n",
       "Komuniti                    416\n",
       "Keagamaan                    87\n",
       "Kumpulan Berisiko Tinggi     66\n",
       "Pendidikan                   54\n",
       "Pusat Tahanan                37\n",
       "Import                        2\n",
       "Name: kategori_kluster, dtype: int64"
      ]
     },
     "execution_count": 43,
     "metadata": {},
     "output_type": "execute_result"
    }
   ],
   "source": [
    "# view number of categories\n",
    "df['kategori_kluster'].value_counts()"
   ]
  },
  {
   "cell_type": "code",
   "execution_count": 44,
   "metadata": {},
   "outputs": [
    {
     "data": {
      "text/plain": [
       "Selangor                                                       308\n",
       "Johor                                                          259\n",
       "Kelantan                                                       139\n",
       "Sarawak                                                        131\n",
       "WP Kuala Lumpur                                                127\n",
       "Sabah                                                           96\n",
       "Pulau Pinang                                                    91\n",
       "Pahang                                                          68\n",
       "Melaka                                                          64\n",
       "Negeri Sembilan                                                 63\n",
       "Kedah                                                           58\n",
       "Perak                                                           58\n",
       "Terengganu                                                      35\n",
       "WP Labuan                                                        6\n",
       "WP Kuala Lumpur dan Selangor                                     5\n",
       "WP Putrajaya                                                     4\n",
       "WP Putrajaya dan Selangor                                        4\n",
       "Melaka dan Johor                                                 2\n",
       "Perak dan WP Kuala Lumpur                                        2\n",
       "Selangor dan WP Kuala Lumpur                                     1\n",
       "Terengganu dan Pahang                                            1\n",
       "Pahang dan WP Kuala Lumpur                                       1\n",
       "Selangor, WP Kuala Lumpur, WP Putrajaya dan Negeri Sembilan      1\n",
       "Pahang dan Perak                                                 1\n",
       "Terengganu, dan Kelantan                                         1\n",
       "Terengganu, Pahang, dan Selangor                                 1\n",
       "WP Putrajaya, WP Kuala Lumpur, dan Selangor                      1\n",
       "Pulau Pinang dan Kedah                                           1\n",
       "WP Kuala Lumpur, dan Selangor                                    1\n",
       "Kelantan dan Terengganu                                          1\n",
       "WP Kuala Lumpur, Selangor                                        1\n",
       "Pulau Pinang dan Perak                                           1\n",
       "Pulau Pinang, Perak, dan Kedah                                   1\n",
       "Selangor, WP Kuala Lumpur, dan WP Putrajaya                      1\n",
       "Pahang dan Selangor                                              1\n",
       "Sabah dan WP Labuan                                              1\n",
       "Kelantan dan Selangor                                            1\n",
       "Perak dan Selangor                                               1\n",
       "Perlis                                                           1\n",
       "Name: negeri, dtype: int64"
      ]
     },
     "execution_count": 44,
     "metadata": {},
     "output_type": "execute_result"
    }
   ],
   "source": [
    "df['negeri'].value_counts()"
   ]
  },
  {
   "cell_type": "code",
   "execution_count": 45,
   "metadata": {},
   "outputs": [
    {
     "name": "stdout",
     "output_type": "stream",
     "text": [
      "<class 'pandas.core.frame.DataFrame'>\n",
      "RangeIndex: 1540 entries, 0 to 1539\n",
      "Data columns (total 7 columns):\n",
      " #   Column            Non-Null Count  Dtype         \n",
      "---  ------            --------------  -----         \n",
      " 0   tarikh            1540 non-null   datetime64[ns]\n",
      " 1   nama_kluster      1540 non-null   object        \n",
      " 2   kategori_kluster  1540 non-null   object        \n",
      " 3   negeri            1540 non-null   object        \n",
      " 4   daerah            1540 non-null   object        \n",
      " 5   jumlah_kes        1540 non-null   int64         \n",
      " 6   jumlah_disaring   1540 non-null   int64         \n",
      "dtypes: datetime64[ns](1), int64(2), object(4)\n",
      "memory usage: 84.3+ KB\n"
     ]
    }
   ],
   "source": [
    "df.info()"
   ]
  },
  {
   "cell_type": "code",
   "execution_count": 46,
   "metadata": {},
   "outputs": [],
   "source": [
    "df.to_csv('cluster_processed.csv', index=False)"
   ]
  },
  {
   "cell_type": "code",
   "execution_count": 47,
   "metadata": {},
   "outputs": [],
   "source": [
    "\n",
    "def loc_df(col):\n",
    "    ''' this function returns a new df with the negeri or district column values seperated'''\n",
    "    \n",
    "    total_loc = []\n",
    "    tarikh = []\n",
    "    nama_kluster = []\n",
    "    kategori_kluster = []\n",
    "    negeri_sep = []\n",
    "    for index, row in df.iterrows():\n",
    "        locations = row[col].split(' dan')\n",
    "\n",
    "        for l in locations : \n",
    "                # removing the , from the string and removing the trailing white spaces'\n",
    "                loc_w_space = [x.strip() for x in l.split(',')]\n",
    "                # removing locations which are just ' '\n",
    "                clean_location = [e for e in loc_w_space if e.strip()]\n",
    "\n",
    "                for i in clean_location:\n",
    "                    # appending all values into seperate lists\n",
    "                    total_loc.append(i)\n",
    "                    tarikh.append(row['tarikh']) \n",
    "                    nama_kluster.append(row['nama_kluster'])\n",
    "                    kategori_kluster.append(row['kategori_kluster'])\n",
    "\n",
    "    #create new df  specific for the seperated column data\n",
    "    df_new = pd.DataFrame({'tarikh':tarikh,'nama_kluster':nama_kluster, 'kategori_kluster': kategori_kluster, col : total_loc })\n",
    "    return (df_new)\n"
   ]
  },
  {
   "cell_type": "code",
   "execution_count": 48,
   "metadata": {},
   "outputs": [],
   "source": [
    "df_negeri = loc_df('negeri')"
   ]
  },
  {
   "cell_type": "code",
   "execution_count": 49,
   "metadata": {},
   "outputs": [
    {
     "data": {
      "text/html": [
       "<div>\n",
       "<style scoped>\n",
       "    .dataframe tbody tr th:only-of-type {\n",
       "        vertical-align: middle;\n",
       "    }\n",
       "\n",
       "    .dataframe tbody tr th {\n",
       "        vertical-align: top;\n",
       "    }\n",
       "\n",
       "    .dataframe thead th {\n",
       "        text-align: right;\n",
       "    }\n",
       "</style>\n",
       "<table border=\"1\" class=\"dataframe\">\n",
       "  <thead>\n",
       "    <tr style=\"text-align: right;\">\n",
       "      <th></th>\n",
       "      <th>tarikh</th>\n",
       "      <th>nama_kluster</th>\n",
       "      <th>kategori_kluster</th>\n",
       "      <th>negeri</th>\n",
       "    </tr>\n",
       "  </thead>\n",
       "  <tbody>\n",
       "    <tr>\n",
       "      <th>0</th>\n",
       "      <td>2021-05-08</td>\n",
       "      <td>Kampung Kebun Sayur</td>\n",
       "      <td>Tempat Kerja</td>\n",
       "      <td>Johor</td>\n",
       "    </tr>\n",
       "    <tr>\n",
       "      <th>1</th>\n",
       "      <td>2021-05-08</td>\n",
       "      <td>Jalan Batu Maung</td>\n",
       "      <td>Pendidikan</td>\n",
       "      <td>Pulau Pinang</td>\n",
       "    </tr>\n",
       "    <tr>\n",
       "      <th>2</th>\n",
       "      <td>2021-05-08</td>\n",
       "      <td>Jalan Mawar 20</td>\n",
       "      <td>Keagamaan</td>\n",
       "      <td>Johor</td>\n",
       "    </tr>\n",
       "    <tr>\n",
       "      <th>3</th>\n",
       "      <td>2021-05-08</td>\n",
       "      <td>Keramat</td>\n",
       "      <td>Komuniti</td>\n",
       "      <td>Sabah</td>\n",
       "    </tr>\n",
       "    <tr>\n",
       "      <th>4</th>\n",
       "      <td>2021-05-08</td>\n",
       "      <td>Rantau Siantan</td>\n",
       "      <td>Komuniti</td>\n",
       "      <td>Pahang</td>\n",
       "    </tr>\n",
       "    <tr>\n",
       "      <th>...</th>\n",
       "      <td>...</td>\n",
       "      <td>...</td>\n",
       "      <td>...</td>\n",
       "      <td>...</td>\n",
       "    </tr>\n",
       "    <tr>\n",
       "      <th>1573</th>\n",
       "      <td>2021-07-20</td>\n",
       "      <td>Jalan Waterfront</td>\n",
       "      <td>Tempat Kerja</td>\n",
       "      <td>Negeri Sembilan</td>\n",
       "    </tr>\n",
       "    <tr>\n",
       "      <th>1574</th>\n",
       "      <td>2021-07-20</td>\n",
       "      <td>Pasar Besar Dungun</td>\n",
       "      <td>Tempat Kerja</td>\n",
       "      <td>Terengganu</td>\n",
       "    </tr>\n",
       "    <tr>\n",
       "      <th>1575</th>\n",
       "      <td>2021-07-20</td>\n",
       "      <td>Kampung Pukak</td>\n",
       "      <td>Komuniti</td>\n",
       "      <td>Sabah</td>\n",
       "    </tr>\n",
       "    <tr>\n",
       "      <th>1576</th>\n",
       "      <td>2021-07-20</td>\n",
       "      <td>Jalan Bukit Chagar</td>\n",
       "      <td>Kumpulan Berisiko Tinggi</td>\n",
       "      <td>Johor</td>\n",
       "    </tr>\n",
       "    <tr>\n",
       "      <th>1577</th>\n",
       "      <td>2021-07-20</td>\n",
       "      <td>Jalan Berhala Merah</td>\n",
       "      <td>Tempat Kerja</td>\n",
       "      <td>WP Kuala Lumpur</td>\n",
       "    </tr>\n",
       "  </tbody>\n",
       "</table>\n",
       "<p>1578 rows × 4 columns</p>\n",
       "</div>"
      ],
      "text/plain": [
       "         tarikh         nama_kluster          kategori_kluster  \\\n",
       "0    2021-05-08  Kampung Kebun Sayur              Tempat Kerja   \n",
       "1    2021-05-08     Jalan Batu Maung                Pendidikan   \n",
       "2    2021-05-08       Jalan Mawar 20                 Keagamaan   \n",
       "3    2021-05-08              Keramat                  Komuniti   \n",
       "4    2021-05-08       Rantau Siantan                  Komuniti   \n",
       "...         ...                  ...                       ...   \n",
       "1573 2021-07-20     Jalan Waterfront              Tempat Kerja   \n",
       "1574 2021-07-20   Pasar Besar Dungun              Tempat Kerja   \n",
       "1575 2021-07-20        Kampung Pukak                  Komuniti   \n",
       "1576 2021-07-20   Jalan Bukit Chagar  Kumpulan Berisiko Tinggi   \n",
       "1577 2021-07-20  Jalan Berhala Merah              Tempat Kerja   \n",
       "\n",
       "               negeri  \n",
       "0               Johor  \n",
       "1        Pulau Pinang  \n",
       "2               Johor  \n",
       "3               Sabah  \n",
       "4              Pahang  \n",
       "...               ...  \n",
       "1573  Negeri Sembilan  \n",
       "1574       Terengganu  \n",
       "1575            Sabah  \n",
       "1576            Johor  \n",
       "1577  WP Kuala Lumpur  \n",
       "\n",
       "[1578 rows x 4 columns]"
      ]
     },
     "execution_count": 49,
     "metadata": {},
     "output_type": "execute_result"
    }
   ],
   "source": [
    "df_negeri"
   ]
  },
  {
   "cell_type": "code",
   "execution_count": 50,
   "metadata": {},
   "outputs": [],
   "source": [
    "#1310 rows × 4 columns"
   ]
  },
  {
   "cell_type": "code",
   "execution_count": 51,
   "metadata": {},
   "outputs": [
    {
     "data": {
      "text/plain": [
       "Selangor           327\n",
       "Johor              261\n",
       "Kelantan           142\n",
       "WP Kuala Lumpur    141\n",
       "Sarawak            131\n",
       "Sabah               97\n",
       "Pulau Pinang        94\n",
       "Pahang              73\n",
       "Melaka              66\n",
       "Negeri Sembilan     64\n",
       "Perak               64\n",
       "Kedah               60\n",
       "Terengganu          39\n",
       "WP Putrajaya        11\n",
       "WP Labuan            7\n",
       "Perlis               1\n",
       "Name: negeri, dtype: int64"
      ]
     },
     "execution_count": 51,
     "metadata": {},
     "output_type": "execute_result"
    }
   ],
   "source": [
    "df_negeri['negeri'].value_counts()"
   ]
  },
  {
   "cell_type": "code",
   "execution_count": 52,
   "metadata": {},
   "outputs": [],
   "source": [
    "df_daerah = loc_df('daerah')"
   ]
  },
  {
   "cell_type": "code",
   "execution_count": 53,
   "metadata": {},
   "outputs": [
    {
     "data": {
      "text/html": [
       "<div>\n",
       "<style scoped>\n",
       "    .dataframe tbody tr th:only-of-type {\n",
       "        vertical-align: middle;\n",
       "    }\n",
       "\n",
       "    .dataframe tbody tr th {\n",
       "        vertical-align: top;\n",
       "    }\n",
       "\n",
       "    .dataframe thead th {\n",
       "        text-align: right;\n",
       "    }\n",
       "</style>\n",
       "<table border=\"1\" class=\"dataframe\">\n",
       "  <thead>\n",
       "    <tr style=\"text-align: right;\">\n",
       "      <th></th>\n",
       "      <th>tarikh</th>\n",
       "      <th>nama_kluster</th>\n",
       "      <th>kategori_kluster</th>\n",
       "      <th>daerah</th>\n",
       "    </tr>\n",
       "  </thead>\n",
       "  <tbody>\n",
       "    <tr>\n",
       "      <th>0</th>\n",
       "      <td>2021-05-08</td>\n",
       "      <td>Kampung Kebun Sayur</td>\n",
       "      <td>Tempat Kerja</td>\n",
       "      <td>Muar</td>\n",
       "    </tr>\n",
       "    <tr>\n",
       "      <th>1</th>\n",
       "      <td>2021-05-08</td>\n",
       "      <td>Jalan Batu Maung</td>\n",
       "      <td>Pendidikan</td>\n",
       "      <td>Barat Daya</td>\n",
       "    </tr>\n",
       "    <tr>\n",
       "      <th>2</th>\n",
       "      <td>2021-05-08</td>\n",
       "      <td>Jalan Mawar 20</td>\n",
       "      <td>Keagamaan</td>\n",
       "      <td>Johor Bahru</td>\n",
       "    </tr>\n",
       "    <tr>\n",
       "      <th>3</th>\n",
       "      <td>2021-05-08</td>\n",
       "      <td>Keramat</td>\n",
       "      <td>Komuniti</td>\n",
       "      <td>Semporna</td>\n",
       "    </tr>\n",
       "    <tr>\n",
       "      <th>4</th>\n",
       "      <td>2021-05-08</td>\n",
       "      <td>Rantau Siantan</td>\n",
       "      <td>Komuniti</td>\n",
       "      <td>Temerloh</td>\n",
       "    </tr>\n",
       "    <tr>\n",
       "      <th>...</th>\n",
       "      <td>...</td>\n",
       "      <td>...</td>\n",
       "      <td>...</td>\n",
       "      <td>...</td>\n",
       "    </tr>\n",
       "    <tr>\n",
       "      <th>2263</th>\n",
       "      <td>2021-07-20</td>\n",
       "      <td>Jalan Waterfront</td>\n",
       "      <td>Tempat Kerja</td>\n",
       "      <td>Port Dickson</td>\n",
       "    </tr>\n",
       "    <tr>\n",
       "      <th>2264</th>\n",
       "      <td>2021-07-20</td>\n",
       "      <td>Pasar Besar Dungun</td>\n",
       "      <td>Tempat Kerja</td>\n",
       "      <td>Dungun</td>\n",
       "    </tr>\n",
       "    <tr>\n",
       "      <th>2265</th>\n",
       "      <td>2021-07-20</td>\n",
       "      <td>Kampung Pukak</td>\n",
       "      <td>Komuniti</td>\n",
       "      <td>Tuaran</td>\n",
       "    </tr>\n",
       "    <tr>\n",
       "      <th>2266</th>\n",
       "      <td>2021-07-20</td>\n",
       "      <td>Jalan Bukit Chagar</td>\n",
       "      <td>Kumpulan Berisiko Tinggi</td>\n",
       "      <td>Johor Bahru</td>\n",
       "    </tr>\n",
       "    <tr>\n",
       "      <th>2267</th>\n",
       "      <td>2021-07-20</td>\n",
       "      <td>Jalan Berhala Merah</td>\n",
       "      <td>Tempat Kerja</td>\n",
       "      <td>Lembah Pantai</td>\n",
       "    </tr>\n",
       "  </tbody>\n",
       "</table>\n",
       "<p>2268 rows × 4 columns</p>\n",
       "</div>"
      ],
      "text/plain": [
       "         tarikh         nama_kluster          kategori_kluster         daerah\n",
       "0    2021-05-08  Kampung Kebun Sayur              Tempat Kerja           Muar\n",
       "1    2021-05-08     Jalan Batu Maung                Pendidikan     Barat Daya\n",
       "2    2021-05-08       Jalan Mawar 20                 Keagamaan    Johor Bahru\n",
       "3    2021-05-08              Keramat                  Komuniti       Semporna\n",
       "4    2021-05-08       Rantau Siantan                  Komuniti       Temerloh\n",
       "...         ...                  ...                       ...            ...\n",
       "2263 2021-07-20     Jalan Waterfront              Tempat Kerja   Port Dickson\n",
       "2264 2021-07-20   Pasar Besar Dungun              Tempat Kerja         Dungun\n",
       "2265 2021-07-20        Kampung Pukak                  Komuniti         Tuaran\n",
       "2266 2021-07-20   Jalan Bukit Chagar  Kumpulan Berisiko Tinggi    Johor Bahru\n",
       "2267 2021-07-20  Jalan Berhala Merah              Tempat Kerja  Lembah Pantai\n",
       "\n",
       "[2268 rows x 4 columns]"
      ]
     },
     "execution_count": 53,
     "metadata": {},
     "output_type": "execute_result"
    }
   ],
   "source": [
    "df_daerah"
   ]
  },
  {
   "cell_type": "code",
   "execution_count": 54,
   "metadata": {},
   "outputs": [],
   "source": [
    "# 1903 rows × 4 columns"
   ]
  },
  {
   "cell_type": "code",
   "execution_count": 55,
   "metadata": {},
   "outputs": [
    {
     "data": {
      "text/plain": [
       "Johor Bahru             117\n",
       "Petaling                 92\n",
       "Klang                    91\n",
       "Hulu Langat              75\n",
       "Gombak                   60\n",
       "                       ... \n",
       "Telupid                   1\n",
       "Sebarang Perai Utara      1\n",
       "Lubok Antu                1\n",
       "Maradong                  1\n",
       "Kangar                    1\n",
       "Name: daerah, Length: 165, dtype: int64"
      ]
     },
     "execution_count": 55,
     "metadata": {},
     "output_type": "execute_result"
    }
   ],
   "source": [
    "df_daerah['daerah'].value_counts()"
   ]
  },
  {
   "cell_type": "code",
   "execution_count": 56,
   "metadata": {},
   "outputs": [],
   "source": [
    "df_negeri.to_csv('cluster_negeri.csv', index=False)"
   ]
  },
  {
   "cell_type": "code",
   "execution_count": 57,
   "metadata": {},
   "outputs": [],
   "source": [
    "df_daerah.to_csv('cluster_daerah.csv', index=False)"
   ]
  },
  {
   "cell_type": "code",
   "execution_count": null,
   "metadata": {},
   "outputs": [],
   "source": []
  },
  {
   "cell_type": "code",
   "execution_count": null,
   "metadata": {},
   "outputs": [],
   "source": []
  }
 ],
 "metadata": {
  "kernelspec": {
   "display_name": "Python 3",
   "language": "python",
   "name": "python3"
  },
  "language_info": {
   "codemirror_mode": {
    "name": "ipython",
    "version": 3
   },
   "file_extension": ".py",
   "mimetype": "text/x-python",
   "name": "python",
   "nbconvert_exporter": "python",
   "pygments_lexer": "ipython3",
   "version": "3.8.5"
  }
 },
 "nbformat": 4,
 "nbformat_minor": 4
}
